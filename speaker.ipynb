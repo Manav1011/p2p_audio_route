{
 "cells": [
  {
   "cell_type": "code",
   "execution_count": 2,
   "id": "0275158c",
   "metadata": {},
   "outputs": [
    {
     "name": "stderr",
     "output_type": "stream",
     "text": [
      "ALSA lib pcm_dsnoop.c:567:(snd_pcm_dsnoop_open) unable to open slave\n",
      "ALSA lib pcm_dmix.c:1000:(snd_pcm_dmix_open) unable to open slave\n",
      "ALSA lib pcm.c:2721:(snd_pcm_open_noupdate) Unknown PCM cards.pcm.rear\n",
      "ALSA lib pcm.c:2721:(snd_pcm_open_noupdate) Unknown PCM cards.pcm.center_lfe\n",
      "ALSA lib pcm.c:2721:(snd_pcm_open_noupdate) Unknown PCM cards.pcm.side\n",
      "Cannot connect to server socket err = No such file or directory\n",
      "Cannot connect to server request channel\n",
      "jack server is not running or cannot be started\n",
      "JackShmReadWritePtr::~JackShmReadWritePtr - Init not done for -1, skipping unlock\n",
      "JackShmReadWritePtr::~JackShmReadWritePtr - Init not done for -1, skipping unlock\n",
      "Cannot connect to server socket err = No such file or directory\n",
      "Cannot connect to server request channel\n",
      "jack server is not running or cannot be started\n",
      "JackShmReadWritePtr::~JackShmReadWritePtr - Init not done for -1, skipping unlock\n",
      "JackShmReadWritePtr::~JackShmReadWritePtr - Init not done for -1, skipping unlock\n",
      "ALSA lib pcm_oss.c:397:(_snd_pcm_oss_open) Cannot open device /dev/dsp\n",
      "ALSA lib pcm_oss.c:397:(_snd_pcm_oss_open) Cannot open device /dev/dsp\n",
      "ALSA lib pcm_a52.c:1001:(_snd_pcm_a52_open) a52 is only for playback\n",
      "ALSA lib confmisc.c:160:(snd_config_get_card) Invalid field card\n",
      "ALSA lib pcm_usb_stream.c:482:(_snd_pcm_usb_stream_open) Invalid card 'card'\n",
      "ALSA lib confmisc.c:160:(snd_config_get_card) Invalid field card\n",
      "ALSA lib pcm_usb_stream.c:482:(_snd_pcm_usb_stream_open) Invalid card 'card'\n",
      "ALSA lib pcm_dmix.c:1000:(snd_pcm_dmix_open) unable to open slave\n",
      "Cannot connect to server socket err = No such file or directory\n",
      "Cannot connect to server request channel\n",
      "jack server is not running or cannot be started\n",
      "JackShmReadWritePtr::~JackShmReadWritePtr - Init not done for -1, skipping unlock\n",
      "JackShmReadWritePtr::~JackShmReadWritePtr - Init not done for -1, skipping unlock\n"
     ]
    },
    {
     "name": "stdout",
     "output_type": "stream",
     "text": [
      "Recording... Press Ctrl+C to stop.\n",
      "Recording stopped.\n",
      "Recording saved to output.wav.\n"
     ]
    }
   ],
   "source": [
    "import pyaudio\n",
    "import numpy as np\n",
    "import librosa\n",
    "import soundfile as sf\n",
    "\n",
    "# Audio settings\n",
    "SAMPLE_RATE = 44100  # You can adjust this depending on your system\n",
    "CHANNELS = 1  # Mono\n",
    "FORMAT = pyaudio.paInt16\n",
    "CHUNK_SIZE = 1024\n",
    "AUDIO_FILE = 'output.wav'\n",
    "\n",
    "# Initialize PyAudio\n",
    "p = pyaudio.PyAudio()\n",
    "\n",
    "# Open stream to capture audio from the virtual microphone (phone_microphone)\n",
    "stream = p.open(format=FORMAT,\n",
    "                channels=CHANNELS,\n",
    "                rate=SAMPLE_RATE,\n",
    "                input=True,\n",
    "                input_device_index=None,  # None will pick the default input device\n",
    "                frames_per_buffer=CHUNK_SIZE)\n",
    "\n",
    "print(\"Recording... Press Ctrl+C to stop.\")\n",
    "\n",
    "# Open the audio file for saving\n",
    "with sf.SoundFile(AUDIO_FILE, 'w', samplerate=SAMPLE_RATE, channels=CHANNELS) as file:\n",
    "    try:\n",
    "        while True:\n",
    "            # Read data from the microphone stream\n",
    "            audio_data = stream.read(CHUNK_SIZE)\n",
    "            \n",
    "            # Convert byte data to numpy array\n",
    "            audio_np = np.frombuffer(audio_data, dtype=np.int16)\n",
    "            \n",
    "            # Optional: Process with librosa (e.g., normalization)\n",
    "            audio_normalized = librosa.util.normalize(audio_np.astype(np.float32))\n",
    "\n",
    "            # Save audio to file\n",
    "            file.write(audio_normalized)\n",
    "\n",
    "    except KeyboardInterrupt:\n",
    "        print(\"Recording stopped.\")\n",
    "\n",
    "    finally:\n",
    "        # Stop and close the stream\n",
    "        stream.stop_stream()\n",
    "        stream.close()\n",
    "        p.terminate()\n",
    "        print(f\"Recording saved to {AUDIO_FILE}.\")"
   ]
  },
  {
   "cell_type": "code",
   "execution_count": 3,
   "id": "ceebe382",
   "metadata": {},
   "outputs": [
    {
     "name": "stderr",
     "output_type": "stream",
     "text": [
      "ffmpeg version 6.1.1-3ubuntu5 Copyright (c) 2000-2023 the FFmpeg developers\n",
      "  built with gcc 13 (Ubuntu 13.2.0-23ubuntu3)\n",
      "  configuration: --prefix=/usr --extra-version=3ubuntu5 --toolchain=hardened --libdir=/usr/lib/x86_64-linux-gnu --incdir=/usr/include/x86_64-linux-gnu --arch=amd64 --enable-gpl --disable-stripping --disable-omx --enable-gnutls --enable-libaom --enable-libass --enable-libbs2b --enable-libcaca --enable-libcdio --enable-libcodec2 --enable-libdav1d --enable-libflite --enable-libfontconfig --enable-libfreetype --enable-libfribidi --enable-libglslang --enable-libgme --enable-libgsm --enable-libharfbuzz --enable-libmp3lame --enable-libmysofa --enable-libopenjpeg --enable-libopenmpt --enable-libopus --enable-librubberband --enable-libshine --enable-libsnappy --enable-libsoxr --enable-libspeex --enable-libtheora --enable-libtwolame --enable-libvidstab --enable-libvorbis --enable-libvpx --enable-libwebp --enable-libx265 --enable-libxml2 --enable-libxvid --enable-libzimg --enable-openal --enable-opencl --enable-opengl --disable-sndio --enable-libvpl --disable-libmfx --enable-libdc1394 --enable-libdrm --enable-libiec61883 --enable-chromaprint --enable-frei0r --enable-ladspa --enable-libbluray --enable-libjack --enable-libpulse --enable-librabbitmq --enable-librist --enable-libsrt --enable-libssh --enable-libsvtav1 --enable-libx264 --enable-libzmq --enable-libzvbi --enable-lv2 --enable-sdl2 --enable-libplacebo --enable-librav1e --enable-pocketsphinx --enable-librsvg --enable-libjxl --enable-shared\n",
      "  libavutil      58. 29.100 / 58. 29.100\n",
      "  libavcodec     60. 31.102 / 60. 31.102\n",
      "  libavformat    60. 16.100 / 60. 16.100\n",
      "  libavdevice    60.  3.100 / 60.  3.100\n",
      "  libavfilter     9. 12.100 /  9. 12.100\n",
      "  libswscale      7.  5.100 /  7.  5.100\n",
      "  libswresample   4. 12.100 /  4. 12.100\n",
      "  libpostproc    57.  3.100 / 57.  3.100\n",
      "[aist#0:0/pcm_s16le @ 0x5a2150f30e80] Guessed Channel Layout: stereo\n",
      "Input #0, pulse, from 'phone_speaker.monitor':\n",
      "  Duration: N/A, start: 1747039558.197396, bitrate: 1536 kb/s\n",
      "  Stream #0:0: Audio: pcm_s16le, 48000 Hz, 2 channels, s16, 1536 kb/s\n",
      "Stream mapping:\n",
      "  Stream #0:0 -> #0:0 (pcm_s16le (native) -> pcm_s16le (native))\n",
      "Press [q] to stop, [?] for help\n",
      "Output #0, wav, to 'output.wav':\n",
      "  Metadata:\n",
      "    ISFT            : Lavf60.16.100\n",
      "  Stream #0:0: Audio: pcm_s16le ([1][0][0][0] / 0x0001), 44100 Hz, stereo, s16, 1411 kb/s\n",
      "    Metadata:\n",
      "      encoder         : Lavc60.31.102 pcm_s16le\n",
      "[out#0/wav @ 0x5a2150f2e380] video:0kB audio:1725kB subtitle:0kB other streams:0kB global headers:0kB muxing overhead: 0.004417%\n",
      "size=    1725kB time=00:00:09.98 bitrate=1414.5kbits/s speed=0.994x    \n"
     ]
    }
   ],
   "source": [
    "import subprocess\n",
    "\n",
    "def record_system_audio(filename=\"output.wav\", duration=10):\n",
    "    subprocess.run([\n",
    "        \"ffmpeg\",\n",
    "        \"-f\", \"pulse\",\n",
    "        \"-i\", \"phone_speaker.monitor\",\n",
    "        \"-t\", str(duration),\n",
    "        \"-ac\", \"2\",\n",
    "        \"-ar\", \"44100\",\n",
    "        filename\n",
    "    ])\n",
    "record_system_audio()"
   ]
  },
  {
   "cell_type": "code",
   "execution_count": 1,
   "id": "4eda7a46",
   "metadata": {},
   "outputs": [
    {
     "name": "stderr",
     "output_type": "stream",
     "text": [
      "ffmpeg version 6.1.1-3ubuntu5 Copyright (c) 2000-2023 the FFmpeg developers\n",
      "  built with gcc 13 (Ubuntu 13.2.0-23ubuntu3)\n",
      "  configuration: --prefix=/usr --extra-version=3ubuntu5 --toolchain=hardened --libdir=/usr/lib/x86_64-linux-gnu --incdir=/usr/include/x86_64-linux-gnu --arch=amd64 --enable-gpl --disable-stripping --disable-omx --enable-gnutls --enable-libaom --enable-libass --enable-libbs2b --enable-libcaca --enable-libcdio --enable-libcodec2 --enable-libdav1d --enable-libflite --enable-libfontconfig --enable-libfreetype --enable-libfribidi --enable-libglslang --enable-libgme --enable-libgsm --enable-libharfbuzz --enable-libmp3lame --enable-libmysofa --enable-libopenjpeg --enable-libopenmpt --enable-libopus --enable-librubberband --enable-libshine --enable-libsnappy --enable-libsoxr --enable-libspeex --enable-libtheora --enable-libtwolame --enable-libvidstab --enable-libvorbis --enable-libvpx --enable-libwebp --enable-libx265 --enable-libxml2 --enable-libxvid --enable-libzimg --enable-openal --enable-opencl --enable-opengl --disable-sndio --enable-libvpl --disable-libmfx --enable-libdc1394 --enable-libdrm --enable-libiec61883 --enable-chromaprint --enable-frei0r --enable-ladspa --enable-libbluray --enable-libjack --enable-libpulse --enable-librabbitmq --enable-librist --enable-libsrt --enable-libssh --enable-libsvtav1 --enable-libx264 --enable-libzmq --enable-libzvbi --enable-lv2 --enable-sdl2 --enable-libplacebo --enable-librav1e --enable-pocketsphinx --enable-librsvg --enable-libjxl --enable-shared\n",
      "  libavutil      58. 29.100 / 58. 29.100\n",
      "  libavcodec     60. 31.102 / 60. 31.102\n",
      "  libavformat    60. 16.100 / 60. 16.100\n",
      "  libavdevice    60.  3.100 / 60.  3.100\n",
      "  libavfilter     9. 12.100 /  9. 12.100\n",
      "  libswscale      7.  5.100 /  7.  5.100\n",
      "  libswresample   4. 12.100 /  4. 12.100\n",
      "  libpostproc    57.  3.100 / 57.  3.100\n",
      "[aist#0:0/pcm_s16le @ 0x559e02811e80] Guessed Channel Layout: stereo\n",
      "Input #0, pulse, from 'virtual_sink.monitor':\n",
      "  Duration: N/A, start: 1747315637.794494, bitrate: 1536 kb/s\n",
      "  Stream #0:0: Audio: pcm_s16le, 48000 Hz, 2 channels, s16, 1536 kb/s\n",
      "Stream mapping:\n",
      "  Stream #0:0 -> #0:0 (pcm_s16le (native) -> pcm_s16le (native))\n",
      "Press [q] to stop, [?] for help\n",
      "Output #0, wav, to 'output2.wav':\n",
      "  Metadata:\n",
      "    ISFT            : Lavf60.16.100\n",
      "  Stream #0:0: Audio: pcm_s16le ([1][0][0][0] / 0x0001), 44100 Hz, stereo, s16, 1411 kb/s\n",
      "    Metadata:\n",
      "      encoder         : Lavc60.31.102 pcm_s16le\n",
      "[out#0/wav @ 0x559e0280f380] video:0kB audio:1723kB subtitle:0kB other streams:0kB global headers:0kB muxing overhead: 0.004422%\n",
      "size=    1723kB time=00:00:09.99 bitrate=1411.3kbits/s speed=0.995x    \n"
     ]
    }
   ],
   "source": [
    "import subprocess\n",
    "\n",
    "def record_system_audio(filename=\"output2.wav\", duration=10):\n",
    "    subprocess.run([\n",
    "        \"ffmpeg\",\n",
    "        \"-f\", \"pulse\",\n",
    "        \"-i\", \"virtual_sink.monitor\",\n",
    "        \"-t\", str(duration),\n",
    "        \"-ac\", \"2\",\n",
    "        \"-ar\", \"44100\",\n",
    "        filename\n",
    "    ])\n",
    "record_system_audio()"
   ]
  },
  {
   "cell_type": "code",
   "execution_count": 1,
   "id": "634aabb1",
   "metadata": {},
   "outputs": [],
   "source": [
    "from aiortc import RTCPeerConnection\n",
    "from aiortc.contrib.media import MediaPlayer"
   ]
  },
  {
   "cell_type": "code",
   "execution_count": 2,
   "id": "e73a0796",
   "metadata": {},
   "outputs": [],
   "source": [
    "device = \"virtual_sink.monitor\""
   ]
  },
  {
   "cell_type": "code",
   "execution_count": 13,
   "id": "6bf35b70",
   "metadata": {},
   "outputs": [
    {
     "ename": "ValueError",
     "evalue": "no container format 'pulse'",
     "output_type": "error",
     "traceback": [
      "\u001b[0;31m---------------------------------------------------------------------------\u001b[0m",
      "\u001b[0;31mValueError\u001b[0m                                Traceback (most recent call last)",
      "Cell \u001b[0;32mIn[13], line 1\u001b[0m\n\u001b[0;32m----> 1\u001b[0m player \u001b[38;5;241m=\u001b[39m \u001b[43mMediaPlayer\u001b[49m\u001b[43m(\u001b[49m\u001b[43mdevice\u001b[49m\u001b[43m,\u001b[49m\u001b[43m \u001b[49m\u001b[38;5;28;43mformat\u001b[39;49m\u001b[38;5;241;43m=\u001b[39;49m\u001b[38;5;124;43m\"\u001b[39;49m\u001b[38;5;124;43mpulse\u001b[39;49m\u001b[38;5;124;43m\"\u001b[39;49m\u001b[43m,\u001b[49m\u001b[43m \u001b[49m\u001b[43moptions\u001b[49m\u001b[38;5;241;43m=\u001b[39;49m\u001b[43m{\u001b[49m\u001b[38;5;124;43m\"\u001b[39;49m\u001b[38;5;124;43mchannels\u001b[39;49m\u001b[38;5;124;43m\"\u001b[39;49m\u001b[43m:\u001b[49m\u001b[43m \u001b[49m\u001b[38;5;124;43m\"\u001b[39;49m\u001b[38;5;124;43m2\u001b[39;49m\u001b[38;5;124;43m\"\u001b[39;49m\u001b[43m}\u001b[49m\u001b[43m)\u001b[49m\n",
      "File \u001b[0;32m~/.globalvenv/lib/python3.10/site-packages/aiortc/contrib/media.py:305\u001b[0m, in \u001b[0;36mMediaPlayer.__init__\u001b[0;34m(self, file, format, options, timeout, loop, decode)\u001b[0m\n\u001b[1;32m    302\u001b[0m \u001b[38;5;28;01mdef\u001b[39;00m\u001b[38;5;250m \u001b[39m\u001b[38;5;21m__init__\u001b[39m(\n\u001b[1;32m    303\u001b[0m     \u001b[38;5;28mself\u001b[39m, file, \u001b[38;5;28mformat\u001b[39m\u001b[38;5;241m=\u001b[39m\u001b[38;5;28;01mNone\u001b[39;00m, options\u001b[38;5;241m=\u001b[39m{}, timeout\u001b[38;5;241m=\u001b[39m\u001b[38;5;28;01mNone\u001b[39;00m, loop\u001b[38;5;241m=\u001b[39m\u001b[38;5;28;01mFalse\u001b[39;00m, decode\u001b[38;5;241m=\u001b[39m\u001b[38;5;28;01mTrue\u001b[39;00m\n\u001b[1;32m    304\u001b[0m ):\n\u001b[0;32m--> 305\u001b[0m     \u001b[38;5;28mself\u001b[39m\u001b[38;5;241m.\u001b[39m__container \u001b[38;5;241m=\u001b[39m \u001b[43mav\u001b[49m\u001b[38;5;241;43m.\u001b[39;49m\u001b[43mopen\u001b[49m\u001b[43m(\u001b[49m\n\u001b[1;32m    306\u001b[0m \u001b[43m        \u001b[49m\u001b[43mfile\u001b[49m\u001b[38;5;241;43m=\u001b[39;49m\u001b[43mfile\u001b[49m\u001b[43m,\u001b[49m\u001b[43m \u001b[49m\u001b[38;5;28;43mformat\u001b[39;49m\u001b[38;5;241;43m=\u001b[39;49m\u001b[38;5;28;43mformat\u001b[39;49m\u001b[43m,\u001b[49m\u001b[43m \u001b[49m\u001b[43mmode\u001b[49m\u001b[38;5;241;43m=\u001b[39;49m\u001b[38;5;124;43m\"\u001b[39;49m\u001b[38;5;124;43mr\u001b[39;49m\u001b[38;5;124;43m\"\u001b[39;49m\u001b[43m,\u001b[49m\u001b[43m \u001b[49m\u001b[43moptions\u001b[49m\u001b[38;5;241;43m=\u001b[39;49m\u001b[43moptions\u001b[49m\u001b[43m,\u001b[49m\u001b[43m \u001b[49m\u001b[43mtimeout\u001b[49m\u001b[38;5;241;43m=\u001b[39;49m\u001b[43mtimeout\u001b[49m\n\u001b[1;32m    307\u001b[0m \u001b[43m    \u001b[49m\u001b[43m)\u001b[49m\n\u001b[1;32m    308\u001b[0m     \u001b[38;5;28mself\u001b[39m\u001b[38;5;241m.\u001b[39m__thread: Optional[threading\u001b[38;5;241m.\u001b[39mThread] \u001b[38;5;241m=\u001b[39m \u001b[38;5;28;01mNone\u001b[39;00m\n\u001b[1;32m    309\u001b[0m     \u001b[38;5;28mself\u001b[39m\u001b[38;5;241m.\u001b[39m__thread_quit: Optional[threading\u001b[38;5;241m.\u001b[39mEvent] \u001b[38;5;241m=\u001b[39m \u001b[38;5;28;01mNone\u001b[39;00m\n",
      "File \u001b[0;32mav/container/core.pyx:401\u001b[0m, in \u001b[0;36mav.container.core.open\u001b[0;34m()\u001b[0m\n",
      "File \u001b[0;32mav/container/core.pyx:205\u001b[0m, in \u001b[0;36mav.container.core.Container.__cinit__\u001b[0;34m()\u001b[0m\n",
      "File \u001b[0;32mav/format.pyx:90\u001b[0m, in \u001b[0;36mav.format.ContainerFormat.__cinit__\u001b[0;34m()\u001b[0m\n",
      "\u001b[0;31mValueError\u001b[0m: no container format 'pulse'"
     ]
    }
   ],
   "source": [
    "player = MediaPlayer(device, format=\"pulse\", options={\"channels\": \"2\"})"
   ]
  },
  {
   "cell_type": "code",
   "execution_count": 2,
   "id": "e76e330e",
   "metadata": {},
   "outputs": [
    {
     "name": "stdout",
     "output_type": "stream",
     "text": [
      "WAV file saved as received_audio.wav\n"
     ]
    }
   ],
   "source": [
    "import numpy as np\n",
    "import soundfile as sf\n",
    "import sounddevice as sd\n",
    "\n",
    "# Audio parameters — must match your PCM format\n",
    "sample_rate = 48000\n",
    "channels = 2\n",
    "dtype = 'int16'\n",
    "\n",
    "# Load raw PCM data\n",
    "pcm_data = np.fromfile('/home/web-h-063/Documents/virtual-audio-devices/webrtc-jam/approach2/received_audio.pcm', dtype=dtype)\n",
    "\n",
    "# Reshape for stereo channels\n",
    "pcm_data = pcm_data.reshape(-1, channels)\n",
    "\n",
    "# Save to WAV\n",
    "wav_filename = 'received_audio.wav'\n",
    "sf.write(wav_filename, pcm_data, sample_rate, subtype='PCM_16')\n",
    "print(f\"WAV file saved as {wav_filename}\")\n",
    "\n",
    "# Play WAV file\n",
    "data, samplerate = sf.read(wav_filename)\n",
    "sd.play(data, samplerate)\n",
    "sd.wait()"
   ]
  }
 ],
 "metadata": {
  "kernelspec": {
   "display_name": ".globalvenv",
   "language": "python",
   "name": "python3"
  },
  "language_info": {
   "codemirror_mode": {
    "name": "ipython",
    "version": 3
   },
   "file_extension": ".py",
   "mimetype": "text/x-python",
   "name": "python",
   "nbconvert_exporter": "python",
   "pygments_lexer": "ipython3",
   "version": "3.10.17"
  }
 },
 "nbformat": 4,
 "nbformat_minor": 5
}
